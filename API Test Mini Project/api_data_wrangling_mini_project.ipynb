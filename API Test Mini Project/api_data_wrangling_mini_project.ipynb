{
 "cells": [
  {
   "cell_type": "markdown",
   "metadata": {},
   "source": [
    "This exercise will require you to pull some data from the Qunadl API. Qaundl is currently the most widely used aggregator of financial market data."
   ]
  },
  {
   "cell_type": "markdown",
   "metadata": {},
   "source": [
    "As a first step, you will need to register a free account on the http://www.quandl.com website."
   ]
  },
  {
   "cell_type": "markdown",
   "metadata": {},
   "source": [
    "After you register, you will be provided with a unique API key, that you should store:"
   ]
  },
  {
   "cell_type": "code",
   "execution_count": 1,
   "metadata": {},
   "outputs": [],
   "source": [
    "# Store the API key as a string - according to PEP8, constants are always named in all upper case\n",
    "API_KEY = '#####################'"
   ]
  },
  {
   "cell_type": "markdown",
   "metadata": {},
   "source": [
    "Qaundl has a large number of data sources, but, unfortunately, most of them require a Premium subscription. Still, there are also a good number of free datasets."
   ]
  },
  {
   "cell_type": "markdown",
   "metadata": {},
   "source": [
    "For this mini project, we will focus on equities data from the Frankfurt Stock Exhange (FSE), which is available for free. We'll try and analyze the stock prices of a company called Carl Zeiss Meditec, which manufactures tools for eye examinations, as well as medical lasers for laser eye surgery: https://www.zeiss.com/meditec/int/home.html. The company is listed under the stock ticker AFX_X."
   ]
  },
  {
   "cell_type": "markdown",
   "metadata": {},
   "source": [
    "You can find the detailed Quandl API instructions here: https://docs.quandl.com/docs/time-series"
   ]
  },
  {
   "cell_type": "markdown",
   "metadata": {},
   "source": [
    "While there is a dedicated Python package for connecting to the Quandl API, we would prefer that you use the *requests* package, which can be easily downloaded using *pip* or *conda*. You can find the documentation for the package here: http://docs.python-requests.org/en/master/ "
   ]
  },
  {
   "cell_type": "markdown",
   "metadata": {},
   "source": [
    "Finally, apart from the *requests* package, you are encouraged to not use any third party Python packages, such as *pandas*, and instead focus on what's available in the Python Standard Library (the *collections* module might come in handy: https://pymotw.com/3/collections/ ).\n",
    "Also, since you won't have access to DataFrames, you are encouraged to us Python's native data structures - preferably dictionaries, though some questions can also be answered using lists.\n",
    "You can read more on these data structures here: https://docs.python.org/3/tutorial/datastructures.html"
   ]
  },
  {
   "cell_type": "markdown",
   "metadata": {},
   "source": [
    "Keep in mind that the JSON responses you will be getting from the API map almost one-to-one to Python's dictionaries. Unfortunately, they can be very nested, so make sure you read up on indexing dictionaries in the documentation provided above."
   ]
  },
  {
   "cell_type": "code",
   "execution_count": 2,
   "metadata": {},
   "outputs": [],
   "source": [
    "# First, import the relevant modules\n",
    "import requests"
   ]
  },
  {
   "cell_type": "code",
   "execution_count": 3,
   "metadata": {},
   "outputs": [],
   "source": [
    "# Now, call the Quandl API and pull out a small sample of the data (only one day) to get a glimpse\n",
    "# into the JSON structure that will be returned\n",
    "url = \"https://www.quandl.com/api/v3/datasets/FSE/AFX_X.json\"\n",
    "params = dict(api_key=API_KEY, start_date=\"2017-12-01\", end_date=\"2017-12-31\")\n",
    "res = requests.get(url, params = params)"
   ]
  },
  {
   "cell_type": "code",
   "execution_count": 4,
   "metadata": {},
   "outputs": [
    {
     "name": "stdout",
     "output_type": "stream",
     "text": [
      "{\"dataset\":{\"id\":10095370,\"dataset_code\":\"AFX_X\",\"database_code\":\"FSE\",\"name\":\"Carl Zeiss Meditec (AFX_X)\",\"description\":\"Stock Prices for Carl Zeiss Meditec (2020-05-15) from the Frankfurt Stock Exchange.\\u003cbr\\u003e\\u003cbr\\u003eTrading System: Xetra\\u003cbr\\u003e\\u003cbr\\u003eISIN: DE0005313704\",\"refreshed_at\":\"2020-05-29T22:16:21.973Z\",\"newest_available_date\":\"2020-05-29\",\"oldest_available_date\":\"2000-06-07\",\"column_names\":[\"Date\",\"Open\",\"High\",\"Low\",\"Close\",\"Change\",\"Traded Volume\",\"Turnover\",\"Last Price of the Day\",\"Daily Traded Units\",\"Daily Turnover\"],\"frequency\":\"daily\",\"type\":\"Time Series\",\"premium\":false,\"limit\":null,\"transform\":null,\"column_index\":null,\"start_date\":\"2017-12-01\",\"end_date\":\"2017-12-31\",\"data\":[[\"2017-12-29\",51.76,51.94,51.45,51.76,null,34640.0,1792304.0,null,null,null],[\"2017-12-28\",51.65,51.82,51.43,51.6,null,40660.0,2099024.0,null,null,null],[\"2017-12-27\",51.45,51.89,50.76,51.82,null,57452.0,2957018.0,null,null,null],[\"2017-12-22\",51.05,51.5,50.92,51.32,null,71165.0,3641949.0,null,null,null],[\"2017-12-21\",51.16,51.52,50.9,51.4,null,120649.0,6179433.0,null,null,null],[\"2017-12-20\",51.88,52.04,51.2,51.27,null,50587.0,2610258.0,null,null,null],[\"2017-12-19\",52.73,52.73,51.07,51.66,null,137313.0,7102361.0,null,null,null],[\"2017-12-18\",52.37,52.75,51.61,52.62,null,129733.0,6770499.0,null,null,null],[\"2017-12-15\",52.7,52.7,51.64,52.01,null,204080.0,10596319.0,null,null,null],[\"2017-12-14\",53.11,53.54,52.15,52.67,null,132981.0,7016953.0,null,null,null],[\"2017-12-13\",52.64,53.35,52.48,53.09,null,128434.0,6801159.0,null,null,null],[\"2017-12-12\",52.29,53.1,51.82,52.43,null,87911.0,4615924.0,null,null,null],[\"2017-12-11\",52.28,52.45,51.26,52.14,null,71817.0,3724193.0,null,null,null],[\"2017-12-08\",51.5,52.83,51.28,52.12,null,109157.0,5690648.0,null,null,null],[\"2017-12-07\",50.89,51.47,50.81,51.47,null,48123.0,2463848.0,null,null,null],[\"2017-12-06\",50.8,51.11,50.39,50.89,null,88730.0,4504075.0,null,null,null],[\"2017-12-05\",51.21,51.38,50.4,51.25,null,83023.0,4231971.0,null,null,null],[\"2017-12-04\",49.5,51.23,49.5,51.14,null,94385.0,4800027.0,null,null,null],[\"2017-12-01\",49.52,50.49,49.17,49.86,null,101733.0,5065932.0,null,null,null]],\"collapse\":null,\"order\":null,\"database_id\":6129}}\n"
     ]
    }
   ],
   "source": [
    "# Inspect the JSON structure of the object you created, and take note of how nested it is,\n",
    "# as well as the overall structure\n",
    "print(res.text)"
   ]
  },
  {
   "cell_type": "markdown",
   "metadata": {},
   "source": [
    "These are your tasks for this mini project:\n",
    "\n",
    "1. Collect data from the Franfurt Stock Exchange, for the ticker AFX_X, for the whole year 2017 (keep in mind that the date format is YYYY-MM-DD).\n",
    "2. Convert the returned JSON object into a Python dictionary.\n",
    "3. Calculate what the highest and lowest opening prices were for the stock in this period.\n",
    "4. What was the largest change in any one day (based on High and Low price)?\n",
    "5. What was the largest change between any two days (based on Closing Price)?\n",
    "6. What was the average daily trading volume during this year?\n",
    "7. (Optional) What was the median trading volume during this year. (Note: you may need to implement your own function for calculating the median.)"
   ]
  },
  {
   "cell_type": "code",
   "execution_count": 5,
   "metadata": {},
   "outputs": [],
   "source": [
    "params = dict(api_key=API_KEY, start_date=\"2017-01-01\", end_date=\"2017-12-31\")\n",
    "res = requests.get(url, params = params)"
   ]
  },
  {
   "cell_type": "code",
   "execution_count": 6,
   "metadata": {},
   "outputs": [
    {
     "name": "stdout",
     "output_type": "stream",
     "text": [
      "The lowest opening is: $34.0 on 2017-01-24\n",
      "The highest opening is: $53.11 on 2017-12-14\n",
      "Highest change in a day(based on High and Low price) is: $2.8100000000000023 \n",
      "The largest change between two consequetive days (based on Closing Price): $2.559999999999995 \n",
      "Average trading volume over the year is 89124.33725490196\n"
     ]
    }
   ],
   "source": [
    "json = res.json()\n",
    "data = json['dataset']['data']\n",
    "[low, low_date, high, high_date, highest_change_in_a_day] = [0,0,0,0,0]\n",
    "trading_vol = []\n",
    "closing =[]\n",
    "for d in data :\n",
    "#     print(d[0])\n",
    "#     print(d[1])\n",
    "    if low == 0:\n",
    "        low = d[1]\n",
    "        low_date = d[0]\n",
    "    elif d[1] != None and low> float(d[1]) :\n",
    "        low = d[1]\n",
    "        low_date = d[0]\n",
    "    if high == 0:\n",
    "        high = d[1]\n",
    "        high_date = d[0]\n",
    "    elif d[1] != None and high<float(d[1]):\n",
    "        high = d[1]\n",
    "        high_date = d[0]\n",
    "    if highest_change_in_a_day == 0:\n",
    "        highest_change_in_a_day = d[2] -d[3]\n",
    "    elif d[2] != None and d[2] != None and (d[2]-d[3])>highest_change_in_a_day:\n",
    "        highest_change_in_a_day = d[2]-d[3]\n",
    "    if d[4] != None :\n",
    "        closing.append(d[4])\n",
    "    if d[6] != None :\n",
    "        trading_vol.append(d[6])\n",
    "        \n",
    "print(\"The lowest opening is: $%s on %s\" %(low, low_date))\n",
    "print(\"The highest opening is: $%s on %s\" %(high, high_date))\n",
    "print(\"Highest change in a day(based on High and Low price) is: $%s \"%highest_change_in_a_day)\n",
    "# print(closing)\n",
    "high_close =0\n",
    "for i in range(len(closing)-1):\n",
    "    if closing[i]<closing[i+1] and (closing[i+1]-closing[i])>high_close :\n",
    "      high_close =closing[i+1]-closing[i]\n",
    "print(\"The largest change between two consequetive days (based on Closing Price): $%s \"%high_close)\n",
    "print(\"Average trading volume over the year is %s\"%(sum(trading_vol)/len(trading_vol)))"
   ]
  },
  {
   "cell_type": "code",
   "execution_count": 7,
   "metadata": {},
   "outputs": [
    {
     "name": "stdout",
     "output_type": "stream",
     "text": [
      "Median trading volume of the year is 76286.0\n"
     ]
    }
   ],
   "source": [
    "#sorting the array(ascending) to find the median\n",
    "\n",
    "trading_vol = sorted(trading_vol)\n",
    "\n",
    "# defining the median function:\n",
    "\n",
    "def median(data):\n",
    "    l = len(data)\n",
    "    if l % 2 == 0:\n",
    "        return (data[int(l/2)-1]+data[int(l/2)])/2\n",
    "    return data[int((l-1)/2)]\n",
    "\n",
    "median_trading_vol = median(trading_vol)\n",
    "print(\"Median trading volume of the year is %s\"%median_trading_vol)"
   ]
  }
 ],
 "metadata": {
  "kernelspec": {
   "display_name": "Python 3",
   "language": "python",
   "name": "python3"
  },
  "language_info": {
   "codemirror_mode": {
    "name": "ipython",
    "version": 3
   },
   "file_extension": ".py",
   "mimetype": "text/x-python",
   "name": "python",
   "nbconvert_exporter": "python",
   "pygments_lexer": "ipython3",
   "version": "3.7.6"
  }
 },
 "nbformat": 4,
 "nbformat_minor": 2
}
